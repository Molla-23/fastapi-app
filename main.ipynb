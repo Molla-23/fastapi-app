{
 "cells": [
  {
   "cell_type": "code",
   "execution_count": 6,
   "id": "ab172ad4-c015-4cd5-873e-0c12123e0a93",
   "metadata": {},
   "outputs": [],
   "source": [
    "# main.py\n",
    "from fastapi import FastAPI\n",
    "from pydantic import BaseModel\n",
    "import joblib\n",
    "import numpy as np\n",
    "\n",
    "# Load the saved model\n",
    "model = joblib.load(\"model.pkl\")  # Make sure model.pkl is in the same folder\n",
    "\n",
    "# Initialize FastAPI\n",
    "app = FastAPI()\n",
    "\n",
    "# Define the input format\n",
    "class InputData(BaseModel):\n",
    "    features: list  # You can customize this if needed\n",
    "\n",
    "# Define the prediction endpoint\n",
    "@app.post(\"/predict\")\n",
    "def predict(data: InputData):\n",
    "    input_array = np.array(data.features).reshape(1, -1)\n",
    "    prediction = model.predict(input_array)\n",
    "    return {\"prediction\": int(prediction[0])}"
   ]
  },
  {
   "cell_type": "code",
   "execution_count": null,
   "id": "8ebb59aa-7647-4cf8-b369-b00da859b517",
   "metadata": {},
   "outputs": [],
   "source": []
  },
  {
   "cell_type": "code",
   "execution_count": null,
   "id": "27058cba-3785-4328-8089-dbc337934024",
   "metadata": {},
   "outputs": [],
   "source": [
    "main_code = \"\"\"\n",
    "from fastapi import FastAPI\n",
    "from pydantic import BaseModel\n",
    "import joblib\n",
    "import numpy as np\n",
    "\n",
    "model = joblib.load(\"model.pkl\")\n",
    "\n",
    "app = FastAPI()\n",
    "\n",
    "class InputData(BaseModel):\n",
    "    features: list\n",
    "\n",
    "@app.post(\"/predict\")\n",
    "def predict(data: InputData):\n",
    "    input_array = np.array(data.features).reshape(1, -1)\n",
    "    prediction = model.predict(input_array)\n",
    "    return {\"prediction\": int(prediction[0])}\n",
    "\"\"\"\n",
    "\n",
    "with open(\"main.py\", \"w\") as f:\n",
    "    f.write(main_code)\n"
   ]
  }
 ],
 "metadata": {
  "kernelspec": {
   "display_name": "Python 3 (ipykernel)",
   "language": "python",
   "name": "python3"
  },
  "language_info": {
   "codemirror_mode": {
    "name": "ipython",
    "version": 3
   },
   "file_extension": ".py",
   "mimetype": "text/x-python",
   "name": "python",
   "nbconvert_exporter": "python",
   "pygments_lexer": "ipython3",
   "version": "3.12.7"
  }
 },
 "nbformat": 4,
 "nbformat_minor": 5
}
