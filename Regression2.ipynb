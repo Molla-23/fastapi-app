{
 "cells": [
  {
   "cell_type": "code",
   "execution_count": 1,
   "id": "bd01dcb2-efd4-492e-9da1-c790506a9ebe",
   "metadata": {},
   "outputs": [],
   "source": [
    "import pandas as pd\n",
    "import numpy as np\n",
    "import os\n",
    "import seaborn as sns"
   ]
  },
  {
   "cell_type": "code",
   "execution_count": 2,
   "id": "c5c71946-940b-4d62-94c8-bd8119aa3f16",
   "metadata": {},
   "outputs": [
    {
     "data": {
      "text/html": [
       "<div>\n",
       "<style scoped>\n",
       "    .dataframe tbody tr th:only-of-type {\n",
       "        vertical-align: middle;\n",
       "    }\n",
       "\n",
       "    .dataframe tbody tr th {\n",
       "        vertical-align: top;\n",
       "    }\n",
       "\n",
       "    .dataframe thead th {\n",
       "        text-align: right;\n",
       "    }\n",
       "</style>\n",
       "<table border=\"1\" class=\"dataframe\">\n",
       "  <thead>\n",
       "    <tr style=\"text-align: right;\">\n",
       "      <th></th>\n",
       "      <th>eid</th>\n",
       "      <th>rcount</th>\n",
       "      <th>gender</th>\n",
       "      <th>dialysisrenalendstage</th>\n",
       "      <th>asthma</th>\n",
       "      <th>irondef</th>\n",
       "      <th>pneum</th>\n",
       "      <th>substancedependence</th>\n",
       "      <th>psychologicaldisordermajor</th>\n",
       "      <th>depress</th>\n",
       "      <th>...</th>\n",
       "      <th>respiration</th>\n",
       "      <th>secondary  diagnosis nonicd9</th>\n",
       "      <th>facid</th>\n",
       "      <th>day</th>\n",
       "      <th>year</th>\n",
       "      <th>discharged_month</th>\n",
       "      <th>discharged_day</th>\n",
       "      <th>discharged_year</th>\n",
       "      <th>month</th>\n",
       "      <th>lengthofstay</th>\n",
       "    </tr>\n",
       "  </thead>\n",
       "  <tbody>\n",
       "    <tr>\n",
       "      <th>0</th>\n",
       "      <td>1</td>\n",
       "      <td>0</td>\n",
       "      <td>0</td>\n",
       "      <td>0</td>\n",
       "      <td>0</td>\n",
       "      <td>0</td>\n",
       "      <td>0</td>\n",
       "      <td>0</td>\n",
       "      <td>0</td>\n",
       "      <td>0</td>\n",
       "      <td>...</td>\n",
       "      <td>6.5</td>\n",
       "      <td>4</td>\n",
       "      <td>1</td>\n",
       "      <td>29</td>\n",
       "      <td>2012</td>\n",
       "      <td>9</td>\n",
       "      <td>1</td>\n",
       "      <td>2012</td>\n",
       "      <td>8</td>\n",
       "      <td>3</td>\n",
       "    </tr>\n",
       "    <tr>\n",
       "      <th>1</th>\n",
       "      <td>2</td>\n",
       "      <td>5</td>\n",
       "      <td>0</td>\n",
       "      <td>0</td>\n",
       "      <td>0</td>\n",
       "      <td>0</td>\n",
       "      <td>0</td>\n",
       "      <td>0</td>\n",
       "      <td>0</td>\n",
       "      <td>0</td>\n",
       "      <td>...</td>\n",
       "      <td>6.5</td>\n",
       "      <td>1</td>\n",
       "      <td>0</td>\n",
       "      <td>26</td>\n",
       "      <td>2012</td>\n",
       "      <td>6</td>\n",
       "      <td>2</td>\n",
       "      <td>2012</td>\n",
       "      <td>5</td>\n",
       "      <td>7</td>\n",
       "    </tr>\n",
       "    <tr>\n",
       "      <th>2</th>\n",
       "      <td>3</td>\n",
       "      <td>1</td>\n",
       "      <td>0</td>\n",
       "      <td>0</td>\n",
       "      <td>0</td>\n",
       "      <td>0</td>\n",
       "      <td>0</td>\n",
       "      <td>0</td>\n",
       "      <td>0</td>\n",
       "      <td>0</td>\n",
       "      <td>...</td>\n",
       "      <td>6.5</td>\n",
       "      <td>2</td>\n",
       "      <td>1</td>\n",
       "      <td>22</td>\n",
       "      <td>2012</td>\n",
       "      <td>9</td>\n",
       "      <td>25</td>\n",
       "      <td>2012</td>\n",
       "      <td>9</td>\n",
       "      <td>3</td>\n",
       "    </tr>\n",
       "    <tr>\n",
       "      <th>3</th>\n",
       "      <td>4</td>\n",
       "      <td>0</td>\n",
       "      <td>0</td>\n",
       "      <td>0</td>\n",
       "      <td>0</td>\n",
       "      <td>0</td>\n",
       "      <td>0</td>\n",
       "      <td>0</td>\n",
       "      <td>0</td>\n",
       "      <td>0</td>\n",
       "      <td>...</td>\n",
       "      <td>6.5</td>\n",
       "      <td>1</td>\n",
       "      <td>0</td>\n",
       "      <td>9</td>\n",
       "      <td>2012</td>\n",
       "      <td>8</td>\n",
       "      <td>10</td>\n",
       "      <td>2012</td>\n",
       "      <td>8</td>\n",
       "      <td>1</td>\n",
       "    </tr>\n",
       "    <tr>\n",
       "      <th>4</th>\n",
       "      <td>5</td>\n",
       "      <td>0</td>\n",
       "      <td>0</td>\n",
       "      <td>0</td>\n",
       "      <td>0</td>\n",
       "      <td>0</td>\n",
       "      <td>1</td>\n",
       "      <td>0</td>\n",
       "      <td>1</td>\n",
       "      <td>0</td>\n",
       "      <td>...</td>\n",
       "      <td>5.6</td>\n",
       "      <td>2</td>\n",
       "      <td>4</td>\n",
       "      <td>20</td>\n",
       "      <td>2012</td>\n",
       "      <td>12</td>\n",
       "      <td>24</td>\n",
       "      <td>2012</td>\n",
       "      <td>12</td>\n",
       "      <td>4</td>\n",
       "    </tr>\n",
       "  </tbody>\n",
       "</table>\n",
       "<p>5 rows × 32 columns</p>\n",
       "</div>"
      ],
      "text/plain": [
       "   eid  rcount  gender  dialysisrenalendstage  asthma  irondef  pneum  \\\n",
       "0    1       0       0                      0       0        0      0   \n",
       "1    2       5       0                      0       0        0      0   \n",
       "2    3       1       0                      0       0        0      0   \n",
       "3    4       0       0                      0       0        0      0   \n",
       "4    5       0       0                      0       0        0      1   \n",
       "\n",
       "   substancedependence  psychologicaldisordermajor  depress  ...  respiration  \\\n",
       "0                    0                           0        0  ...          6.5   \n",
       "1                    0                           0        0  ...          6.5   \n",
       "2                    0                           0        0  ...          6.5   \n",
       "3                    0                           0        0  ...          6.5   \n",
       "4                    0                           1        0  ...          5.6   \n",
       "\n",
       "   secondary  diagnosis nonicd9  facid  day  year  discharged_month  \\\n",
       "0                             4      1   29  2012                 9   \n",
       "1                             1      0   26  2012                 6   \n",
       "2                             2      1   22  2012                 9   \n",
       "3                             1      0    9  2012                 8   \n",
       "4                             2      4   20  2012                12   \n",
       "\n",
       "   discharged_day  discharged_year  month  lengthofstay  \n",
       "0               1             2012      8             3  \n",
       "1               2             2012      5             7  \n",
       "2              25             2012      9             3  \n",
       "3              10             2012      8             1  \n",
       "4              24             2012     12             4  \n",
       "\n",
       "[5 rows x 32 columns]"
      ]
     },
     "execution_count": 2,
     "metadata": {},
     "output_type": "execute_result"
    }
   ],
   "source": [
    "data = pd.read_csv(\"lengthofstay_updated.csv\", index_col=0)\n",
    "data.head()"
   ]
  },
  {
   "cell_type": "code",
   "execution_count": 26,
   "id": "1fc5e0ea-8910-4264-b65e-1ea6eee47419",
   "metadata": {},
   "outputs": [],
   "source": [
    "data=data.drop(columns=['eid'])"
   ]
  },
  {
   "cell_type": "code",
   "execution_count": 30,
   "id": "dc6e5eaa-9bf4-492b-a5e3-712963877768",
   "metadata": {},
   "outputs": [],
   "source": [
    "from sklearn.model_selection import train_test_split\n",
    "dev_data, final_test = train_test_split(data, test_size=0.2, random_state=42)"
   ]
  },
  {
   "cell_type": "code",
   "execution_count": 31,
   "id": "7e50dbee-e101-486f-ad03-4324d97a713f",
   "metadata": {},
   "outputs": [
    {
     "name": "stdout",
     "output_type": "stream",
     "text": [
      "Total samples: 100000\n",
      "Model development samples: 80000\n",
      "Final test samples: 20000\n"
     ]
    }
   ],
   "source": [
    "print(f\"Total samples: {len(data)}\")\n",
    "print(f\"Model development samples: {len(dev_data)}\")\n",
    "print(f\"Final test samples: {len(final_test)}\")"
   ]
  },
  {
   "cell_type": "code",
   "execution_count": 32,
   "id": "5085e70d-b211-4a6b-a8ab-39f5b40d359d",
   "metadata": {},
   "outputs": [
    {
     "name": "stdout",
     "output_type": "stream",
     "text": [
      "Index(['rcount', 'gender', 'dialysisrenalendstage', 'asthma', 'irondef',\n",
      "       'pneum', 'substancedependence', 'psychologicaldisordermajor', 'depress',\n",
      "       'psychother', 'fibrosisandother', 'malnutrition', 'hemo', 'hematocrit',\n",
      "       'neutrophils', 'sodium', 'glucose', 'bloodureanitro', 'creatinine',\n",
      "       'bmi', 'pulse', 'respiration', 'secondary  diagnosis nonicd9', 'facid',\n",
      "       'day', 'year', 'discharged_month', 'discharged_day', 'discharged_year',\n",
      "       'month', 'lengthofstay'],\n",
      "      dtype='object')\n"
     ]
    }
   ],
   "source": [
    "print(dev_data.columns)"
   ]
  },
  {
   "cell_type": "code",
   "execution_count": 33,
   "id": "0c7f273c-478b-45cd-a83d-332c843d57fb",
   "metadata": {},
   "outputs": [],
   "source": [
    "len(dev_data);"
   ]
  },
  {
   "cell_type": "code",
   "execution_count": 34,
   "id": "0c13cb1e-d37c-4ba4-9788-4c195a7ed1fa",
   "metadata": {},
   "outputs": [
    {
     "name": "stdout",
     "output_type": "stream",
     "text": [
      "       rcount  gender  dialysisrenalendstage  asthma  irondef  pneum  \\\n",
      "75220       3       1                      0       0        0      0   \n",
      "48955       5       1                      0       0        0      0   \n",
      "44966       4       0                      0       0        0      0   \n",
      "13568       0       1                      0       0        0      0   \n",
      "92727       4       0                      0       0        0      0   \n",
      "...       ...     ...                    ...     ...      ...    ...   \n",
      "6265        0       1                      0       0        0      0   \n",
      "54886       4       0                      0       0        0      0   \n",
      "76820       5       0                      0       0        0      0   \n",
      "860         0       0                      0       0        0      0   \n",
      "15795       0       1                      0       0        0      0   \n",
      "\n",
      "       substancedependence  psychologicaldisordermajor  depress  psychother  \\\n",
      "75220                    0                           0        0           0   \n",
      "48955                    0                           0        0           0   \n",
      "44966                    0                           0        0           0   \n",
      "13568                    0                           1        0           0   \n",
      "92727                    0                           0        0           0   \n",
      "...                    ...                         ...      ...         ...   \n",
      "6265                     0                           0        0           0   \n",
      "54886                    0                           0        0           0   \n",
      "76820                    0                           0        0           0   \n",
      "860                      0                           0        0           0   \n",
      "15795                    0                           0        0           0   \n",
      "\n",
      "       ...  respiration  secondary  diagnosis nonicd9  facid  day  year  \\\n",
      "75220  ...          6.5                             5      1   26  2012   \n",
      "48955  ...          7.7                             4      0   21  2012   \n",
      "44966  ...          6.5                             1      0   11  2012   \n",
      "13568  ...          6.5                             1      4   15  2012   \n",
      "92727  ...          6.5                             1      1   27  2012   \n",
      "...    ...          ...                           ...    ...  ...   ...   \n",
      "6265   ...          6.5                             1      0    4  2012   \n",
      "54886  ...          6.5                             1      0   10  2012   \n",
      "76820  ...          7.5                             4      0   21  2012   \n",
      "860    ...          6.5                             1      0   14  2012   \n",
      "15795  ...          7.1                             9      0    8  2012   \n",
      "\n",
      "       discharged_month  discharged_day  discharged_year  month  lengthofstay  \n",
      "75220                12              31             2012     12             5  \n",
      "48955                11              28             2012     11             7  \n",
      "44966                 5              17             2012      5             6  \n",
      "13568                 8              20             2012      8             5  \n",
      "92727                10               3             2012      9             6  \n",
      "...                 ...             ...              ...    ...           ...  \n",
      "6265                  1               5             2012      1             1  \n",
      "54886                12              16             2012     12             6  \n",
      "76820                 3              30             2012      3             9  \n",
      "860                   9              17             2012      9             3  \n",
      "15795                 8               9             2012      8             1  \n",
      "\n",
      "[80000 rows x 31 columns]\n"
     ]
    }
   ],
   "source": [
    "print(dev_data);"
   ]
  },
  {
   "cell_type": "code",
   "execution_count": 35,
   "id": "530a7a61-0a4f-4330-9324-810d566ef46c",
   "metadata": {},
   "outputs": [
    {
     "data": {
      "text/html": [
       "<div>\n",
       "<style scoped>\n",
       "    .dataframe tbody tr th:only-of-type {\n",
       "        vertical-align: middle;\n",
       "    }\n",
       "\n",
       "    .dataframe tbody tr th {\n",
       "        vertical-align: top;\n",
       "    }\n",
       "\n",
       "    .dataframe thead th {\n",
       "        text-align: right;\n",
       "    }\n",
       "</style>\n",
       "<table border=\"1\" class=\"dataframe\">\n",
       "  <thead>\n",
       "    <tr style=\"text-align: right;\">\n",
       "      <th></th>\n",
       "      <th>rcount</th>\n",
       "      <th>gender</th>\n",
       "      <th>dialysisrenalendstage</th>\n",
       "      <th>asthma</th>\n",
       "      <th>irondef</th>\n",
       "      <th>pneum</th>\n",
       "      <th>substancedependence</th>\n",
       "      <th>psychologicaldisordermajor</th>\n",
       "      <th>depress</th>\n",
       "      <th>psychother</th>\n",
       "      <th>...</th>\n",
       "      <th>respiration</th>\n",
       "      <th>secondary  diagnosis nonicd9</th>\n",
       "      <th>facid</th>\n",
       "      <th>day</th>\n",
       "      <th>year</th>\n",
       "      <th>discharged_month</th>\n",
       "      <th>discharged_day</th>\n",
       "      <th>discharged_year</th>\n",
       "      <th>month</th>\n",
       "      <th>lengthofstay</th>\n",
       "    </tr>\n",
       "  </thead>\n",
       "  <tbody>\n",
       "    <tr>\n",
       "      <th>count</th>\n",
       "      <td>80000.000000</td>\n",
       "      <td>80000.000000</td>\n",
       "      <td>80000.000000</td>\n",
       "      <td>80000.000000</td>\n",
       "      <td>80000.000000</td>\n",
       "      <td>80000.000000</td>\n",
       "      <td>80000.000000</td>\n",
       "      <td>80000.000000</td>\n",
       "      <td>80000.000000</td>\n",
       "      <td>80000.000000</td>\n",
       "      <td>...</td>\n",
       "      <td>80000.000000</td>\n",
       "      <td>80000.000000</td>\n",
       "      <td>80000.000000</td>\n",
       "      <td>80000.000000</td>\n",
       "      <td>80000.000000</td>\n",
       "      <td>80000.000000</td>\n",
       "      <td>80000.000000</td>\n",
       "      <td>80000.000000</td>\n",
       "      <td>80000.000000</td>\n",
       "      <td>80000.000000</td>\n",
       "    </tr>\n",
       "    <tr>\n",
       "      <th>mean</th>\n",
       "      <td>1.117375</td>\n",
       "      <td>0.424475</td>\n",
       "      <td>0.036312</td>\n",
       "      <td>0.034975</td>\n",
       "      <td>0.094750</td>\n",
       "      <td>0.039350</td>\n",
       "      <td>0.062350</td>\n",
       "      <td>0.239325</td>\n",
       "      <td>0.052025</td>\n",
       "      <td>0.049212</td>\n",
       "      <td>...</td>\n",
       "      <td>6.491869</td>\n",
       "      <td>2.118325</td>\n",
       "      <td>1.757187</td>\n",
       "      <td>15.693725</td>\n",
       "      <td>2012.002550</td>\n",
       "      <td>6.506725</td>\n",
       "      <td>15.737637</td>\n",
       "      <td>2012.013600</td>\n",
       "      <td>6.509575</td>\n",
       "      <td>4.001762</td>\n",
       "    </tr>\n",
       "    <tr>\n",
       "      <th>std</th>\n",
       "      <td>1.541923</td>\n",
       "      <td>0.494266</td>\n",
       "      <td>0.187068</td>\n",
       "      <td>0.183718</td>\n",
       "      <td>0.292871</td>\n",
       "      <td>0.194427</td>\n",
       "      <td>0.241792</td>\n",
       "      <td>0.426674</td>\n",
       "      <td>0.222079</td>\n",
       "      <td>0.216313</td>\n",
       "      <td>...</td>\n",
       "      <td>0.568923</td>\n",
       "      <td>2.047010</td>\n",
       "      <td>1.647768</td>\n",
       "      <td>8.817277</td>\n",
       "      <td>0.050433</td>\n",
       "      <td>3.456165</td>\n",
       "      <td>8.799741</td>\n",
       "      <td>0.115824</td>\n",
       "      <td>3.455652</td>\n",
       "      <td>2.364747</td>\n",
       "    </tr>\n",
       "    <tr>\n",
       "      <th>min</th>\n",
       "      <td>0.000000</td>\n",
       "      <td>0.000000</td>\n",
       "      <td>0.000000</td>\n",
       "      <td>0.000000</td>\n",
       "      <td>0.000000</td>\n",
       "      <td>0.000000</td>\n",
       "      <td>0.000000</td>\n",
       "      <td>0.000000</td>\n",
       "      <td>0.000000</td>\n",
       "      <td>0.000000</td>\n",
       "      <td>...</td>\n",
       "      <td>0.200000</td>\n",
       "      <td>0.000000</td>\n",
       "      <td>0.000000</td>\n",
       "      <td>1.000000</td>\n",
       "      <td>2012.000000</td>\n",
       "      <td>1.000000</td>\n",
       "      <td>1.000000</td>\n",
       "      <td>2012.000000</td>\n",
       "      <td>1.000000</td>\n",
       "      <td>1.000000</td>\n",
       "    </tr>\n",
       "    <tr>\n",
       "      <th>25%</th>\n",
       "      <td>0.000000</td>\n",
       "      <td>0.000000</td>\n",
       "      <td>0.000000</td>\n",
       "      <td>0.000000</td>\n",
       "      <td>0.000000</td>\n",
       "      <td>0.000000</td>\n",
       "      <td>0.000000</td>\n",
       "      <td>0.000000</td>\n",
       "      <td>0.000000</td>\n",
       "      <td>0.000000</td>\n",
       "      <td>...</td>\n",
       "      <td>6.500000</td>\n",
       "      <td>1.000000</td>\n",
       "      <td>0.000000</td>\n",
       "      <td>8.000000</td>\n",
       "      <td>2012.000000</td>\n",
       "      <td>3.000000</td>\n",
       "      <td>8.000000</td>\n",
       "      <td>2012.000000</td>\n",
       "      <td>3.000000</td>\n",
       "      <td>2.000000</td>\n",
       "    </tr>\n",
       "    <tr>\n",
       "      <th>50%</th>\n",
       "      <td>0.000000</td>\n",
       "      <td>0.000000</td>\n",
       "      <td>0.000000</td>\n",
       "      <td>0.000000</td>\n",
       "      <td>0.000000</td>\n",
       "      <td>0.000000</td>\n",
       "      <td>0.000000</td>\n",
       "      <td>0.000000</td>\n",
       "      <td>0.000000</td>\n",
       "      <td>0.000000</td>\n",
       "      <td>...</td>\n",
       "      <td>6.500000</td>\n",
       "      <td>1.000000</td>\n",
       "      <td>1.000000</td>\n",
       "      <td>16.000000</td>\n",
       "      <td>2012.000000</td>\n",
       "      <td>7.000000</td>\n",
       "      <td>16.000000</td>\n",
       "      <td>2012.000000</td>\n",
       "      <td>7.000000</td>\n",
       "      <td>4.000000</td>\n",
       "    </tr>\n",
       "    <tr>\n",
       "      <th>75%</th>\n",
       "      <td>2.000000</td>\n",
       "      <td>1.000000</td>\n",
       "      <td>0.000000</td>\n",
       "      <td>0.000000</td>\n",
       "      <td>0.000000</td>\n",
       "      <td>0.000000</td>\n",
       "      <td>0.000000</td>\n",
       "      <td>0.000000</td>\n",
       "      <td>0.000000</td>\n",
       "      <td>0.000000</td>\n",
       "      <td>...</td>\n",
       "      <td>6.500000</td>\n",
       "      <td>3.000000</td>\n",
       "      <td>4.000000</td>\n",
       "      <td>23.000000</td>\n",
       "      <td>2012.000000</td>\n",
       "      <td>10.000000</td>\n",
       "      <td>23.000000</td>\n",
       "      <td>2012.000000</td>\n",
       "      <td>10.000000</td>\n",
       "      <td>6.000000</td>\n",
       "    </tr>\n",
       "    <tr>\n",
       "      <th>max</th>\n",
       "      <td>5.000000</td>\n",
       "      <td>1.000000</td>\n",
       "      <td>1.000000</td>\n",
       "      <td>1.000000</td>\n",
       "      <td>1.000000</td>\n",
       "      <td>1.000000</td>\n",
       "      <td>1.000000</td>\n",
       "      <td>1.000000</td>\n",
       "      <td>1.000000</td>\n",
       "      <td>1.000000</td>\n",
       "      <td>...</td>\n",
       "      <td>10.000000</td>\n",
       "      <td>10.000000</td>\n",
       "      <td>4.000000</td>\n",
       "      <td>31.000000</td>\n",
       "      <td>2013.000000</td>\n",
       "      <td>12.000000</td>\n",
       "      <td>31.000000</td>\n",
       "      <td>2013.000000</td>\n",
       "      <td>12.000000</td>\n",
       "      <td>17.000000</td>\n",
       "    </tr>\n",
       "  </tbody>\n",
       "</table>\n",
       "<p>8 rows × 31 columns</p>\n",
       "</div>"
      ],
      "text/plain": [
       "             rcount        gender  dialysisrenalendstage        asthma  \\\n",
       "count  80000.000000  80000.000000           80000.000000  80000.000000   \n",
       "mean       1.117375      0.424475               0.036312      0.034975   \n",
       "std        1.541923      0.494266               0.187068      0.183718   \n",
       "min        0.000000      0.000000               0.000000      0.000000   \n",
       "25%        0.000000      0.000000               0.000000      0.000000   \n",
       "50%        0.000000      0.000000               0.000000      0.000000   \n",
       "75%        2.000000      1.000000               0.000000      0.000000   \n",
       "max        5.000000      1.000000               1.000000      1.000000   \n",
       "\n",
       "            irondef         pneum  substancedependence  \\\n",
       "count  80000.000000  80000.000000         80000.000000   \n",
       "mean       0.094750      0.039350             0.062350   \n",
       "std        0.292871      0.194427             0.241792   \n",
       "min        0.000000      0.000000             0.000000   \n",
       "25%        0.000000      0.000000             0.000000   \n",
       "50%        0.000000      0.000000             0.000000   \n",
       "75%        0.000000      0.000000             0.000000   \n",
       "max        1.000000      1.000000             1.000000   \n",
       "\n",
       "       psychologicaldisordermajor       depress    psychother  ...  \\\n",
       "count                80000.000000  80000.000000  80000.000000  ...   \n",
       "mean                     0.239325      0.052025      0.049212  ...   \n",
       "std                      0.426674      0.222079      0.216313  ...   \n",
       "min                      0.000000      0.000000      0.000000  ...   \n",
       "25%                      0.000000      0.000000      0.000000  ...   \n",
       "50%                      0.000000      0.000000      0.000000  ...   \n",
       "75%                      0.000000      0.000000      0.000000  ...   \n",
       "max                      1.000000      1.000000      1.000000  ...   \n",
       "\n",
       "        respiration  secondary  diagnosis nonicd9         facid           day  \\\n",
       "count  80000.000000                  80000.000000  80000.000000  80000.000000   \n",
       "mean       6.491869                      2.118325      1.757187     15.693725   \n",
       "std        0.568923                      2.047010      1.647768      8.817277   \n",
       "min        0.200000                      0.000000      0.000000      1.000000   \n",
       "25%        6.500000                      1.000000      0.000000      8.000000   \n",
       "50%        6.500000                      1.000000      1.000000     16.000000   \n",
       "75%        6.500000                      3.000000      4.000000     23.000000   \n",
       "max       10.000000                     10.000000      4.000000     31.000000   \n",
       "\n",
       "               year  discharged_month  discharged_day  discharged_year  \\\n",
       "count  80000.000000      80000.000000    80000.000000     80000.000000   \n",
       "mean    2012.002550          6.506725       15.737637      2012.013600   \n",
       "std        0.050433          3.456165        8.799741         0.115824   \n",
       "min     2012.000000          1.000000        1.000000      2012.000000   \n",
       "25%     2012.000000          3.000000        8.000000      2012.000000   \n",
       "50%     2012.000000          7.000000       16.000000      2012.000000   \n",
       "75%     2012.000000         10.000000       23.000000      2012.000000   \n",
       "max     2013.000000         12.000000       31.000000      2013.000000   \n",
       "\n",
       "              month  lengthofstay  \n",
       "count  80000.000000  80000.000000  \n",
       "mean       6.509575      4.001762  \n",
       "std        3.455652      2.364747  \n",
       "min        1.000000      1.000000  \n",
       "25%        3.000000      2.000000  \n",
       "50%        7.000000      4.000000  \n",
       "75%       10.000000      6.000000  \n",
       "max       12.000000     17.000000  \n",
       "\n",
       "[8 rows x 31 columns]"
      ]
     },
     "execution_count": 35,
     "metadata": {},
     "output_type": "execute_result"
    }
   ],
   "source": [
    "dev_data.describe()"
   ]
  },
  {
   "cell_type": "code",
   "execution_count": 36,
   "id": "932ca7cb-27bf-4b82-9271-39e6e4ee6b4b",
   "metadata": {},
   "outputs": [],
   "source": [
    "import matplotlib.pyplot as plt"
   ]
  },
  {
   "cell_type": "code",
   "execution_count": 37,
   "id": "1a79e37c-2d48-45e7-99df-d087fad898d3",
   "metadata": {},
   "outputs": [
    {
     "data": {
      "image/png": "[encoded data removed]",
      "text/plain": [
       "<Figure size 640x480 with 1 Axes>"
      ]
     },
     "metadata": {},
     "output_type": "display_data"
    },
    {
     "data": {
      "image/png": "[encoded data removed]",
      "text/plain": [
       "<Figure size 640x480 with 1 Axes>"
      ]
     },
     "metadata": {},
     "output_type": "display_data"
    }
   ],
   "source": [
    "sns.boxplot(x='gender', y='lengthofstay', data=dev_data)\n",
    "plt.show()\n",
    "\n",
    "sns.boxplot(x='asthma', y='lengthofstay', data=dev_data)\n",
    "plt.show()"
   ]
  },
  {
   "cell_type": "code",
   "execution_count": 38,
   "id": "9249ff7b-9081-444a-93a6-bba4536ff926",
   "metadata": {},
   "outputs": [
    {
     "data": {
      "image/png": "[encoded data removed]",
      "text/plain": [
       "<Figure size 640x480 with 1 Axes>"
      ]
     },
     "metadata": {},
     "output_type": "display_data"
    }
   ],
   "source": [
    "sns.scatterplot(x='facid', y='lengthofstay', data=dev_data)\n",
    "plt.show()"
   ]
  },
  {
   "cell_type": "code",
   "execution_count": 39,
   "id": "8dc54a12-0821-43b7-b32c-3a6e21677bb4",
   "metadata": {},
   "outputs": [
    {
     "data": {
      "image/png": "[encoded data removed]",
      "text/plain": [
       "<Figure size 640x480 with 1 Axes>"
      ]
     },
     "metadata": {},
     "output_type": "display_data"
    },
    {
     "data": {
      "image/png": "[encoded data removed]",
      "text/plain": [
       "<Figure size 640x480 with 1 Axes>"
      ]
     },
     "metadata": {},
     "output_type": "display_data"
    }
   ],
   "source": [
    "age_histogram = dev_data.hist(column='rcount', bins=20, range=[0, 100])\n",
    "for ax in age_histogram.flatten():\n",
    "    ax.set_xlabel(\"rcount\")\n",
    "    ax.set_ylabel(\"Num. of Patients\")\n",
    "    \n",
    "age_LOS = dev_data.hist(column='facid', bins=20, range=[0, 100])\n",
    "for ax in age_LOS.flatten():\n",
    "    ax.set_xlabel(\"facid\")\n",
    "    ax.set_ylabel(\"Num. of Patients\")"
   ]
  },
  {
   "cell_type": "code",
   "execution_count": 40,
   "id": "2eef719e-118f-430e-b6a1-295c6d1547ec",
   "metadata": {},
   "outputs": [
    {
     "data": {
      "image/png": "[encoded data removed]",
      "text/plain": [
       "<Figure size 800x300 with 1 Axes>"
      ]
     },
     "metadata": {},
     "output_type": "display_data"
    },
    {
     "data": {
      "image/png": "[encoded data removed]",
      "text/plain": [
       "<Figure size 800x300 with 1 Axes>"
      ]
     },
     "metadata": {},
     "output_type": "display_data"
    },
    {
     "data": {
      "image/png": "[encoded data removed]",
      "text/plain": [
       "<Figure size 800x300 with 1 Axes>"
      ]
     },
     "metadata": {},
     "output_type": "display_data"
    },
    {
     "data": {
      "image/png": "[encoded data removed]",
      "text/plain": [
       "<Figure size 800x300 with 1 Axes>"
      ]
     },
     "metadata": {},
     "output_type": "display_data"
    }
   ],
   "source": [
    "rcount_count = dev_data['rcount'].value_counts().sort_index()\n",
    "plt.figure(figsize = (8, 3))\n",
    "plt.bar(rcount_count.index, rcount_count.values, width=0.8, color=\"skyblue\")\n",
    "plt.xlabel(\"rcount\")\n",
    "plt.ylabel(\"Count\")\n",
    "plt.show()\n",
    "\n",
    "gender_count = dev_data['gender'].value_counts().sort_index()\n",
    "plt.figure(figsize = (8, 3))\n",
    "plt.bar(gender_count.index, gender_count.values, width=0.8, color=\"skyblue\")\n",
    "plt.xlabel(\"gender\")\n",
    "plt.ylabel(\"Count\")\n",
    "plt.show()\n",
    "\n",
    "respiration_count = dev_data['respiration'].value_counts().sort_index()\n",
    "plt.figure(figsize = (8, 3))\n",
    "plt.bar(gender_count.index, gender_count.values, width=0.8, color=\"skyblue\")\n",
    "plt.xlabel(\"respiration\")\n",
    "plt.ylabel(\"Count\")\n",
    "plt.show()\n",
    "lengthofstay_count = dev_data['lengthofstay'].value_counts().sort_index()\n",
    "plt.figure(figsize = (8, 3))\n",
    "plt.bar(lengthofstay_count.index, lengthofstay_count.values, width=0.8, color=\"skyblue\")\n",
    "plt.xlabel(\"lengthofstay\")\n",
    "plt.ylabel(\"Count\")\n",
    "plt.show()"
   ]
  },
  {
   "cell_type": "code",
   "execution_count": 41,
   "id": "8653b698-a011-4ae2-a2b1-d145684f68b4",
   "metadata": {},
   "outputs": [
    {
     "name": "stdout",
     "output_type": "stream",
     "text": [
      "       rcount  gender  dialysisrenalendstage  asthma  irondef  pneum  \\\n",
      "75220       3       1                      0       0        0      0   \n",
      "48955       5       1                      0       0        0      0   \n",
      "44966       4       0                      0       0        0      0   \n",
      "13568       0       1                      0       0        0      0   \n",
      "92727       4       0                      0       0        0      0   \n",
      "\n",
      "       substancedependence  psychologicaldisordermajor  depress  psychother  \\\n",
      "75220                    0                           0        0           0   \n",
      "48955                    0                           0        0           0   \n",
      "44966                    0                           0        0           0   \n",
      "13568                    0                           1        0           0   \n",
      "92727                    0                           0        0           0   \n",
      "\n",
      "       ...  pulse  respiration  secondary  diagnosis nonicd9  facid  day  \\\n",
      "75220  ...     72          6.5                             5      1   26   \n",
      "48955  ...     77          7.7                             4      0   21   \n",
      "44966  ...     62          6.5                             1      0   11   \n",
      "13568  ...     64          6.5                             1      4   15   \n",
      "92727  ...     68          6.5                             1      1   27   \n",
      "\n",
      "       year  discharged_month  discharged_day  discharged_year  month  \n",
      "75220  2012                12              31             2012     12  \n",
      "48955  2012                11              28             2012     11  \n",
      "44966  2012                 5              17             2012      5  \n",
      "13568  2012                 8              20             2012      8  \n",
      "92727  2012                10               3             2012      9  \n",
      "\n",
      "[5 rows x 30 columns]\n",
      "75220    5\n",
      "48955    7\n",
      "44966    6\n",
      "13568    5\n",
      "92727    6\n",
      "Name: lengthofstay, dtype: int64\n"
     ]
    }
   ],
   "source": [
    "x = dev_data.drop(columns=[\"lengthofstay\"])\n",
    "y = dev_data[\"lengthofstay\"]\n",
    "print(x.head())\n",
    "print(y.head())"
   ]
  },
  {
   "cell_type": "code",
   "execution_count": 42,
   "id": "cb5bb2a4-0dff-4ea5-af2b-61dd1ab78cb2",
   "metadata": {},
   "outputs": [],
   "source": [
    "from sklearn.model_selection import train_test_split\n",
    "x_train,x_test, y_train, y_test = train_test_split(x, y, test_size=0.2)"
   ]
  },
  {
   "cell_type": "code",
   "execution_count": 43,
   "id": "224a4fb0-dfee-49c9-9916-5ef59f18067d",
   "metadata": {},
   "outputs": [
    {
     "name": "stdout",
     "output_type": "stream",
     "text": [
      "Model Coefficients: [ 3.87242017e-02  3.12907147e-03  2.28356371e-02  1.76224628e-02\n",
      "  2.26438173e-02  1.91302397e-02  1.79517733e-02  2.59854014e-02\n",
      "  1.81378063e-02  1.10388673e-02  1.91162042e-02  1.84476956e-02\n",
      "  4.31394825e-02  5.42630470e-04  9.26787230e-04 -5.97893288e-05\n",
      "  1.64160507e-05  3.79751655e-04  8.91044688e-05  8.28595733e-06\n",
      " -3.02373979e-05 -1.49565281e-03  1.26211823e-04  6.85467600e-03\n",
      " -9.65414436e-01 -3.53680895e+02  2.94321635e+01  9.65846679e-01\n",
      "  3.53695394e+02 -2.94310174e+01]\n",
      "Intercept: -29.128326332055032\n",
      "Predicted values for test set: [4.0540025  1.03569588 4.01255339 ... 8.030447   3.94034321 2.99976197]\n",
      "Mean Squared Error (MSE): 0.04957629172960731\n",
      "R-squared (R²) Score: 0.9909898214074329\n"
     ]
    }
   ],
   "source": [
    "from sklearn.linear_model import LinearRegression\n",
    "from sklearn.metrics import mean_squared_error, r2_score\n",
    "model = LinearRegression()\n",
    "model.fit(x_train, y_train)\n",
    "\n",
    "print(\"Model Coefficients:\", model.coef_)\n",
    "print(\"Intercept:\", model.intercept_)\n",
    "\n",
    "# Make predictions\n",
    "y_pred = model.predict(x_test)\n",
    "print(\"Predicted values for test set:\", y_pred)\n",
    "\n",
    "# Evaluate model performance\n",
    "mse=mean_squared_error(y_test, y_pred)\n",
    "r2=r2_score(y_test, y_pred)\n",
    "print(\"Mean Squared Error (MSE):\", mse)\n",
    "print(\"R-squared (R²) Score:\", r2)\n"
   ]
  },
  {
   "cell_type": "code",
   "execution_count": 45,
   "id": "ee181161-4a2b-47ae-aed4-3b6bd947413c",
   "metadata": {},
   "outputs": [
    {
     "name": "stdout",
     "output_type": "stream",
     "text": [
      "Final Test Performance:\n",
      "Mean Absolute Error (MAE): 0.0482\n",
      "Root Mean Squared Error (RMSE): 0.2195\n",
      "R^2 Score: 0.9912\n"
     ]
    }
   ],
   "source": [
    "x = final_test.drop(columns=[\"lengthofstay\"])\n",
    "y = final_test[\"lengthofstay\"]\n",
    "#print(x.head())\n",
    "#print(y.head())\n",
    "\n",
    "y_pred1 = model.predict(x)\n",
    "\n",
    "# 3. Calculate performance metrics\n",
    "mse=mean_squared_error(y, y_pred1)\n",
    "rmse = np.sqrt(mean_squared_error(y, y_pred1))\n",
    "r2 = r2_score(y, y_pred1)\n",
    "\n",
    "print(\"Final Test Performance:\")\n",
    "print(f\"Mean Absolute Error (MAE): {mse:.4f}\")\n",
    "print(f\"Root Mean Squared Error (RMSE): {rmse:.4f}\")\n",
    "print(f\"R^2 Score: {r2:.4f}\")"
   ]
  },
  {
   "cell_type": "code",
   "execution_count": 46,
   "id": "4066ba58-cc77-494f-8fe0-5fb6cc5c0af7",
   "metadata": {},
   "outputs": [
    {
     "name": "stdout",
     "output_type": "stream",
     "text": [
      "Testing model on the first row of final test data:\n",
      "Predicted Length of Stay: 5.02\n",
      "Actual Length of Stay:    5.00\n"
     ]
    }
   ],
   "source": [
    "x = final_test.drop(columns=[\"lengthofstay\"])\n",
    "y = final_test[\"lengthofstay\"]\n",
    "\n",
    "# Get the first row (as a 2D array for prediction)\n",
    "first_row_features = x.iloc[[4]]  # Keep it 2D\n",
    "true_value = y.iloc[4]            # Actual length of stay (for comparison)\n",
    "\n",
    "# Predict using the trained model\n",
    "predicted_value = model.predict(first_row_features)[0]\n",
    "\n",
    "# Output the results\n",
    "print(\"Testing model on the first row of final test data:\")\n",
    "print(f\"Predicted Length of Stay: {predicted_value:.2f}\")\n",
    "print(f\"Actual Length of Stay:    {true_value:.2f}\")"
   ]
  },
  {
   "cell_type": "code",
   "execution_count": 47,
   "id": "cb280ede-2cc4-4d73-9ed9-4eb068975f4c",
   "metadata": {},
   "outputs": [
    {
     "data": {
      "text/plain": [
       "['model.pkl']"
      ]
     },
     "execution_count": 47,
     "metadata": {},
     "output_type": "execute_result"
    }
   ],
   "source": [
    "import joblib\n",
    "\n",
    "# Replace `model` with your trained model variable\n",
    "joblib.dump(model, 'model.pkl')\n"
   ]
  },
  {
   "cell_type": "code",
   "execution_count": 48,
   "id": "e2649f5a-f9fa-4099-84d7-6c5f2b81743a",
   "metadata": {},
   "outputs": [
    {
     "name": "stdout",
     "output_type": "stream",
     "text": [
      "Note: you may need to restart the kernel to use updated packages.Requirement already satisfied: fastapi in c:\\users\\molla\\anaconda3\\lib\\site-packages (from -r requirements.txt (line 1)) (0.115.12)\n",
      "Requirement already satisfied: uvicorn in c:\\users\\molla\\anaconda3\\lib\\site-packages (from -r requirements.txt (line 2)) (0.34.2)\n",
      "Requirement already satisfied: scikit-learn in c:\\users\\molla\\anaconda3\\lib\\site-packages (from -r requirements.txt (line 3)) (1.5.1)\n",
      "Requirement already satisfied: joblib in c:\\users\\molla\\anaconda3\\lib\\site-packages (from -r requirements.txt (line 4)) (1.4.2)\n",
      "\n",
      "Requirement already satisfied: pydantic in c:\\users\\molla\\anaconda3\\lib\\site-packages (from -r requirements.txt (line 5)) (2.8.2)\n",
      "Requirement already satisfied: starlette<0.47.0,>=0.40.0 in c:\\users\\molla\\anaconda3\\lib\\site-packages (from fastapi->-r requirements.txt (line 1)) (0.46.2)\n",
      "Requirement already satisfied: typing-extensions>=4.8.0 in c:\\users\\molla\\anaconda3\\lib\\site-packages (from fastapi->-r requirements.txt (line 1)) (4.11.0)\n",
      "Requirement already satisfied: click>=7.0 in c:\\users\\molla\\anaconda3\\lib\\site-packages (from uvicorn->-r requirements.txt (line 2)) (8.1.7)\n",
      "Requirement already satisfied: h11>=0.8 in c:\\users\\molla\\anaconda3\\lib\\site-packages (from uvicorn->-r requirements.txt (line 2)) (0.14.0)\n",
      "Requirement already satisfied: numpy>=1.19.5 in c:\\users\\molla\\anaconda3\\lib\\site-packages (from scikit-learn->-r requirements.txt (line 3)) (1.26.4)\n",
      "Requirement already satisfied: scipy>=1.6.0 in c:\\users\\molla\\anaconda3\\lib\\site-packages (from scikit-learn->-r requirements.txt (line 3)) (1.13.1)\n",
      "Requirement already satisfied: threadpoolctl>=3.1.0 in c:\\users\\molla\\anaconda3\\lib\\site-packages (from scikit-learn->-r requirements.txt (line 3)) (3.5.0)\n",
      "Requirement already satisfied: annotated-types>=0.4.0 in c:\\users\\molla\\anaconda3\\lib\\site-packages (from pydantic->-r requirements.txt (line 5)) (0.6.0)\n",
      "Requirement already satisfied: pydantic-core==2.20.1 in c:\\users\\molla\\anaconda3\\lib\\site-packages (from pydantic->-r requirements.txt (line 5)) (2.20.1)\n",
      "Requirement already satisfied: colorama in c:\\users\\molla\\anaconda3\\lib\\site-packages (from click>=7.0->uvicorn->-r requirements.txt (line 2)) (0.4.6)\n",
      "Requirement already satisfied: anyio<5,>=3.6.2 in c:\\users\\molla\\anaconda3\\lib\\site-packages (from starlette<0.47.0,>=0.40.0->fastapi->-r requirements.txt (line 1)) (4.2.0)\n",
      "Requirement already satisfied: idna>=2.8 in c:\\users\\molla\\anaconda3\\lib\\site-packages (from anyio<5,>=3.6.2->starlette<0.47.0,>=0.40.0->fastapi->-r requirements.txt (line 1)) (3.7)\n",
      "Requirement already satisfied: sniffio>=1.1 in c:\\users\\molla\\anaconda3\\lib\\site-packages (from anyio<5,>=3.6.2->starlette<0.47.0,>=0.40.0->fastapi->-r requirements.txt (line 1)) (1.3.0)\n"
     ]
    }
   ],
   "source": [
    "pip install -r requirements.txt"
   ]
  },
  {
   "cell_type": "code",
   "execution_count": 51,
   "id": "20d3238b-fe80-45c7-b807-d91706e9e315",
   "metadata": {},
   "outputs": [
    {
     "name": "stdout",
     "output_type": "stream",
     "text": [
      "rcount                             4.000000\n",
      "gender                             0.000000\n",
      "dialysisrenalendstage              0.000000\n",
      "asthma                             0.000000\n",
      "irondef                            0.000000\n",
      "pneum                              0.000000\n",
      "substancedependence                0.000000\n",
      "psychologicaldisordermajor         0.000000\n",
      "depress                            0.000000\n",
      "psychother                         0.000000\n",
      "fibrosisandother                   0.000000\n",
      "malnutrition                       0.000000\n",
      "hemo                               1.000000\n",
      "hematocrit                         7.300000\n",
      "neutrophils                        3.800000\n",
      "sodium                           136.075138\n",
      "glucose                          154.756375\n",
      "bloodureanitro                    22.000000\n",
      "creatinine                         0.942433\n",
      "bmi                               28.371450\n",
      "pulse                             48.000000\n",
      "respiration                        6.500000\n",
      "secondary  diagnosis nonicd9       1.000000\n",
      "facid                              1.000000\n",
      "day                               11.000000\n",
      "year                            2012.000000\n",
      "discharged_month                   4.000000\n",
      "discharged_day                    19.000000\n",
      "discharged_year                 2012.000000\n",
      "month                              4.000000\n",
      "lengthofstay                       8.000000\n",
      "Name: 27701, dtype: float64\n"
     ]
    }
   ],
   "source": [
    "first_row = final_test.iloc[10]\n",
    "print(first_row)\n"
   ]
  },
  {
   "cell_type": "code",
   "execution_count": null,
   "id": "8cacc314-fbbb-4dc4-bcc0-89fa143fda5c",
   "metadata": {},
   "outputs": [],
   "source": []
  }
 ],
 "metadata": {
  "kernelspec": {
   "display_name": "Python 3 (ipykernel)",
   "language": "python",
   "name": "python3"
  },
  "language_info": {
   "codemirror_mode": {
    "name": "ipython",
    "version": 3
   },
   "file_extension": ".py",
   "mimetype": "text/x-python",
   "name": "python",
   "nbconvert_exporter": "python",
   "pygments_lexer": "ipython3",
   "version": "3.12.7"
  }
 },
 "nbformat": 4,
 "nbformat_minor": 5
}
