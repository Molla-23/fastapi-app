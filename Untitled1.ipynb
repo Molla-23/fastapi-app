{
 "cells": [
  {
   "cell_type": "code",
   "execution_count": 13,
   "id": "e3e4ccda-80aa-4bf3-a473-39eacb992e29",
   "metadata": {},
   "outputs": [
    {
     "name": "stdout",
     "output_type": "stream",
     "text": [
      " The filter is separable.\n",
      "\n",
      "Vertical 1D filter hy:\n",
      "[-1. -2. -1.]\n",
      "\n",
      "Horizontal 1D filter hx:\n",
      "[-1. -2. -1.]\n",
      "\n",
      "Reconstructed h:\n",
      "[[1. 2. 1.]\n",
      " [2. 4. 2.]\n",
      " [1. 2. 1.]]\n",
      " Reconstruction matches original filter.\n"
     ]
    }
   ],
   "source": [
    "import numpy as np\n",
    "\n",
    "# Define the 2D filter\n",
    "h = np.array([\n",
    "    [1, 2, 1],\n",
    "    [2, 4, 2],\n",
    "    [1, 2, 1]\n",
    "])\n",
    "\n",
    "# Singular Value Decomposition (SVD)\n",
    "U, S, Vt = np.linalg.svd(h)\n",
    "\n",
    "#print(\"Singular values of h:\")\n",
    "#print(S)\n",
    "\n",
    "# Check if only one singular value is significant (separable if rank-1)\n",
    "if np.count_nonzero(S > 1e-10) == 1:\n",
    "    print(\" The filter is separable.\")\n",
    "\n",
    "    # Get dominant singular value\n",
    "    s1 = S[0]\n",
    "    # Extract the first singular vectors and scale\n",
    "    hy = np.sqrt(s1) * U[:, 0]     # vertical filter\n",
    "    hx = np.sqrt(s1) * Vt[0, :]    # horizontal filter\n",
    "\n",
    "    print(\"\\nVertical 1D filter hy:\")\n",
    "    print(np.round(hy, 3))\n",
    "\n",
    "    print(\"\\nHorizontal 1D filter hx:\")\n",
    "    print(np.round(hx, 3))\n",
    "\n",
    "    # Reconstruct the 2D filter\n",
    "    h_reconstructed = np.outer(hy, hx)\n",
    "    print(\"\\nReconstructed h:\")\n",
    "    print(np.round(h_reconstructed))\n",
    "\n",
    "    # Check accuracy\n",
    "    if np.allclose(h, h_reconstructed):\n",
    "        print(\" Reconstruction matches original filter.\")\n",
    "    else:\n",
    "        print(\" Reconstruction does not match.\")\n",
    "else:\n",
    "    print(\" The filter is not separable.\")\n"
   ]
  },
  {
   "cell_type": "code",
   "execution_count": null,
   "id": "9094d80c-797d-45d3-936c-6f46157e9caf",
   "metadata": {},
   "outputs": [],
   "source": []
  },
  {
   "cell_type": "code",
   "execution_count": null,
   "id": "6797c5f0-cef2-4eee-af97-dbbf894be66f",
   "metadata": {},
   "outputs": [],
   "source": []
  }
 ],
 "metadata": {
  "kernelspec": {
   "display_name": "Python 3 (ipykernel)",
   "language": "python",
   "name": "python3"
  },
  "language_info": {
   "codemirror_mode": {
    "name": "ipython",
    "version": 3
   },
   "file_extension": ".py",
   "mimetype": "text/x-python",
   "name": "python",
   "nbconvert_exporter": "python",
   "pygments_lexer": "ipython3",
   "version": "3.12.7"
  }
 },
 "nbformat": 4,
 "nbformat_minor": 5
}
